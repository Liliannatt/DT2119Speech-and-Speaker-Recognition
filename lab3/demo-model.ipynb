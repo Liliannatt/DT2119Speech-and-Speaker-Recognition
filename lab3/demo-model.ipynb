{
 "cells": [
  {
   "cell_type": "code",
   "execution_count": 2,
   "metadata": {},
   "outputs": [
    {
     "name": "stderr",
     "output_type": "stream",
     "text": [
      "\u001b[32m2024-05-09 06:15:09.800\u001b[0m | \u001b[1mINFO    \u001b[0m | \u001b[36mpytorch_example\u001b[0m:\u001b[36m<module>\u001b[0m:\u001b[36m120\u001b[0m - \u001b[1mNet(\n",
      "  (activate): ReLU()\n",
      "  (layer1): Linear(in_features=280, out_features=256, bias=True)\n",
      "  (hidden_layers): Sequential(\n",
      "    (0): Linear(in_features=256, out_features=256, bias=True)\n",
      "    (1): ReLU()\n",
      "    (2): Linear(in_features=256, out_features=256, bias=True)\n",
      "    (3): ReLU()\n",
      "    (4): Linear(in_features=256, out_features=256, bias=True)\n",
      "    (5): ReLU()\n",
      "  )\n",
      "  (header_layer): Linear(in_features=256, out_features=61, bias=True)\n",
      ")\u001b[0m\n",
      "\u001b[32m2024-05-09 06:15:09.802\u001b[0m | \u001b[1mINFO    \u001b[0m | \u001b[36mpytorch_example\u001b[0m:\u001b[36m<module>\u001b[0m:\u001b[36m121\u001b[0m - \u001b[1mnumber of prameters:\u001b[0m\n",
      "\u001b[32m2024-05-09 06:15:13.694\u001b[0m | \u001b[1mINFO    \u001b[0m | \u001b[36mpytorch_example\u001b[0m:\u001b[36m<module>\u001b[0m:\u001b[36m228\u001b[0m - \u001b[1mepoch 000 / 100, step 0000 / 5267, loss 0.00695, acc 1.95%, total time [00:00], one epoch time 00:04\u001b[0m\n",
      "\u001b[32m2024-05-09 06:15:14.256\u001b[0m | \u001b[1mINFO    \u001b[0m | \u001b[36mpytorch_example\u001b[0m:\u001b[36m<module>\u001b[0m:\u001b[36m228\u001b[0m - \u001b[1mepoch 000 / 100, step 0100 / 5267, loss 0.33515, acc 14.45%, total time [00:00], one epoch time 00:29\u001b[0m\n",
      "\u001b[32m2024-05-09 06:15:14.778\u001b[0m | \u001b[1mINFO    \u001b[0m | \u001b[36mpytorch_example\u001b[0m:\u001b[36m<module>\u001b[0m:\u001b[36m228\u001b[0m - \u001b[1mepoch 000 / 100, step 0200 / 5267, loss 0.09790, acc 16.80%, total time [00:01], one epoch time 00:27\u001b[0m\n",
      "\u001b[32m2024-05-09 06:15:15.313\u001b[0m | \u001b[1mINFO    \u001b[0m | \u001b[36mpytorch_example\u001b[0m:\u001b[36m<module>\u001b[0m:\u001b[36m228\u001b[0m - \u001b[1mepoch 000 / 100, step 0300 / 5267, loss 0.07458, acc 26.95%, total time [00:01], one epoch time 00:28\u001b[0m\n",
      "\u001b[32m2024-05-09 06:15:15.848\u001b[0m | \u001b[1mINFO    \u001b[0m | \u001b[36mpytorch_example\u001b[0m:\u001b[36m<module>\u001b[0m:\u001b[36m228\u001b[0m - \u001b[1mepoch 000 / 100, step 0400 / 5267, loss 0.06715, acc 23.44%, total time [00:02], one epoch time 00:28\u001b[0m\n",
      "\u001b[32m2024-05-09 06:15:16.384\u001b[0m | \u001b[1mINFO    \u001b[0m | \u001b[36mpytorch_example\u001b[0m:\u001b[36m<module>\u001b[0m:\u001b[36m228\u001b[0m - \u001b[1mepoch 000 / 100, step 0500 / 5267, loss 0.06272, acc 22.66%, total time [00:02], one epoch time 00:28\u001b[0m\n",
      "\u001b[32m2024-05-09 06:15:16.919\u001b[0m | \u001b[1mINFO    \u001b[0m | \u001b[36mpytorch_example\u001b[0m:\u001b[36m<module>\u001b[0m:\u001b[36m228\u001b[0m - \u001b[1mepoch 000 / 100, step 0600 / 5267, loss 0.06040, acc 28.12%, total time [00:03], one epoch time 00:28\u001b[0m\n",
      "\u001b[32m2024-05-09 06:15:17.455\u001b[0m | \u001b[1mINFO    \u001b[0m | \u001b[36mpytorch_example\u001b[0m:\u001b[36m<module>\u001b[0m:\u001b[36m228\u001b[0m - \u001b[1mepoch 000 / 100, step 0700 / 5267, loss 0.05899, acc 32.42%, total time [00:03], one epoch time 00:28\u001b[0m\n",
      "\u001b[32m2024-05-09 06:15:17.990\u001b[0m | \u001b[1mINFO    \u001b[0m | \u001b[36mpytorch_example\u001b[0m:\u001b[36m<module>\u001b[0m:\u001b[36m228\u001b[0m - \u001b[1mepoch 000 / 100, step 0800 / 5267, loss 0.05721, acc 32.81%, total time [00:04], one epoch time 00:28\u001b[0m\n",
      "\u001b[32m2024-05-09 06:15:18.565\u001b[0m | \u001b[1mINFO    \u001b[0m | \u001b[36mpytorch_example\u001b[0m:\u001b[36m<module>\u001b[0m:\u001b[36m228\u001b[0m - \u001b[1mepoch 000 / 100, step 0900 / 5267, loss 0.05597, acc 32.03%, total time [00:04], one epoch time 00:30\u001b[0m\n",
      "\u001b[32m2024-05-09 06:15:19.089\u001b[0m | \u001b[1mINFO    \u001b[0m | \u001b[36mpytorch_example\u001b[0m:\u001b[36m<module>\u001b[0m:\u001b[36m228\u001b[0m - \u001b[1mepoch 000 / 100, step 1000 / 5267, loss 0.05432, acc 32.81%, total time [00:05], one epoch time 00:27\u001b[0m\n",
      "\u001b[32m2024-05-09 06:15:19.611\u001b[0m | \u001b[1mINFO    \u001b[0m | \u001b[36mpytorch_example\u001b[0m:\u001b[36m<module>\u001b[0m:\u001b[36m228\u001b[0m - \u001b[1mepoch 000 / 100, step 1100 / 5267, loss 0.05320, acc 32.03%, total time [00:06], one epoch time 00:27\u001b[0m\n",
      "\u001b[32m2024-05-09 06:15:20.145\u001b[0m | \u001b[1mINFO    \u001b[0m | \u001b[36mpytorch_example\u001b[0m:\u001b[36m<module>\u001b[0m:\u001b[36m228\u001b[0m - \u001b[1mepoch 000 / 100, step 1200 / 5267, loss 0.05199, acc 32.03%, total time [00:06], one epoch time 00:28\u001b[0m\n",
      "\u001b[32m2024-05-09 06:15:20.681\u001b[0m | \u001b[1mINFO    \u001b[0m | \u001b[36mpytorch_example\u001b[0m:\u001b[36m<module>\u001b[0m:\u001b[36m228\u001b[0m - \u001b[1mepoch 000 / 100, step 1300 / 5267, loss 0.05060, acc 35.16%, total time [00:07], one epoch time 00:28\u001b[0m\n",
      "\u001b[32m2024-05-09 06:15:21.215\u001b[0m | \u001b[1mINFO    \u001b[0m | \u001b[36mpytorch_example\u001b[0m:\u001b[36m<module>\u001b[0m:\u001b[36m228\u001b[0m - \u001b[1mepoch 000 / 100, step 1400 / 5267, loss 0.04928, acc 38.28%, total time [00:07], one epoch time 00:28\u001b[0m\n",
      "\u001b[32m2024-05-09 06:15:21.753\u001b[0m | \u001b[1mINFO    \u001b[0m | \u001b[36mpytorch_example\u001b[0m:\u001b[36m<module>\u001b[0m:\u001b[36m228\u001b[0m - \u001b[1mepoch 000 / 100, step 1500 / 5267, loss 0.04848, acc 40.62%, total time [00:08], one epoch time 00:28\u001b[0m\n",
      "\u001b[32m2024-05-09 06:15:22.291\u001b[0m | \u001b[1mINFO    \u001b[0m | \u001b[36mpytorch_example\u001b[0m:\u001b[36m<module>\u001b[0m:\u001b[36m228\u001b[0m - \u001b[1mepoch 000 / 100, step 1600 / 5267, loss 0.04723, acc 45.70%, total time [00:08], one epoch time 00:28\u001b[0m\n",
      "\u001b[32m2024-05-09 06:15:22.875\u001b[0m | \u001b[1mINFO    \u001b[0m | \u001b[36mpytorch_example\u001b[0m:\u001b[36m<module>\u001b[0m:\u001b[36m228\u001b[0m - \u001b[1mepoch 000 / 100, step 1700 / 5267, loss 0.04613, acc 46.88%, total time [00:09], one epoch time 00:30\u001b[0m\n",
      "\u001b[32m2024-05-09 06:15:23.425\u001b[0m | \u001b[1mINFO    \u001b[0m | \u001b[36mpytorch_example\u001b[0m:\u001b[36m<module>\u001b[0m:\u001b[36m228\u001b[0m - \u001b[1mepoch 000 / 100, step 1800 / 5267, loss 0.04567, acc 46.88%, total time [00:09], one epoch time 00:28\u001b[0m\n",
      "\u001b[32m2024-05-09 06:15:23.973\u001b[0m | \u001b[1mINFO    \u001b[0m | \u001b[36mpytorch_example\u001b[0m:\u001b[36m<module>\u001b[0m:\u001b[36m228\u001b[0m - \u001b[1mepoch 000 / 100, step 1900 / 5267, loss 0.04501, acc 45.70%, total time [00:10], one epoch time 00:28\u001b[0m\n",
      "\u001b[32m2024-05-09 06:15:24.521\u001b[0m | \u001b[1mINFO    \u001b[0m | \u001b[36mpytorch_example\u001b[0m:\u001b[36m<module>\u001b[0m:\u001b[36m228\u001b[0m - \u001b[1mepoch 000 / 100, step 2000 / 5267, loss 0.04450, acc 42.58%, total time [00:10], one epoch time 00:28\u001b[0m\n",
      "\u001b[32m2024-05-09 06:15:24.988\u001b[0m | \u001b[1mINFO    \u001b[0m | \u001b[36mpytorch_example\u001b[0m:\u001b[36m<module>\u001b[0m:\u001b[36m228\u001b[0m - \u001b[1mepoch 000 / 100, step 2100 / 5267, loss 0.04403, acc 47.27%, total time [00:11], one epoch time 00:24\u001b[0m\n",
      "\u001b[32m2024-05-09 06:15:25.468\u001b[0m | \u001b[1mINFO    \u001b[0m | \u001b[36mpytorch_example\u001b[0m:\u001b[36m<module>\u001b[0m:\u001b[36m228\u001b[0m - \u001b[1mepoch 000 / 100, step 2200 / 5267, loss 0.04356, acc 46.48%, total time [00:11], one epoch time 00:25\u001b[0m\n",
      "\u001b[32m2024-05-09 06:15:25.948\u001b[0m | \u001b[1mINFO    \u001b[0m | \u001b[36mpytorch_example\u001b[0m:\u001b[36m<module>\u001b[0m:\u001b[36m228\u001b[0m - \u001b[1mepoch 000 / 100, step 2300 / 5267, loss 0.04321, acc 46.88%, total time [00:12], one epoch time 00:25\u001b[0m\n",
      "\u001b[32m2024-05-09 06:15:26.457\u001b[0m | \u001b[1mINFO    \u001b[0m | \u001b[36mpytorch_example\u001b[0m:\u001b[36m<module>\u001b[0m:\u001b[36m228\u001b[0m - \u001b[1mepoch 000 / 100, step 2400 / 5267, loss 0.04258, acc 48.83%, total time [00:12], one epoch time 00:26\u001b[0m\n",
      "\u001b[32m2024-05-09 06:15:27.012\u001b[0m | \u001b[1mINFO    \u001b[0m | \u001b[36mpytorch_example\u001b[0m:\u001b[36m<module>\u001b[0m:\u001b[36m228\u001b[0m - \u001b[1mepoch 000 / 100, step 2500 / 5267, loss 0.04270, acc 42.58%, total time [00:13], one epoch time 00:29\u001b[0m\n",
      "\u001b[32m2024-05-09 06:15:27.533\u001b[0m | \u001b[1mINFO    \u001b[0m | \u001b[36mpytorch_example\u001b[0m:\u001b[36m<module>\u001b[0m:\u001b[36m228\u001b[0m - \u001b[1mepoch 000 / 100, step 2600 / 5267, loss 0.04220, acc 45.70%, total time [00:13], one epoch time 00:27\u001b[0m\n",
      "\u001b[32m2024-05-09 06:15:28.054\u001b[0m | \u001b[1mINFO    \u001b[0m | \u001b[36mpytorch_example\u001b[0m:\u001b[36m<module>\u001b[0m:\u001b[36m228\u001b[0m - \u001b[1mepoch 000 / 100, step 2700 / 5267, loss 0.04192, acc 41.80%, total time [00:14], one epoch time 00:27\u001b[0m\n",
      "\u001b[32m2024-05-09 06:15:28.587\u001b[0m | \u001b[1mINFO    \u001b[0m | \u001b[36mpytorch_example\u001b[0m:\u001b[36m<module>\u001b[0m:\u001b[36m228\u001b[0m - \u001b[1mepoch 000 / 100, step 2800 / 5267, loss 0.04174, acc 48.44%, total time [00:14], one epoch time 00:27\u001b[0m\n",
      "\u001b[32m2024-05-09 06:15:29.121\u001b[0m | \u001b[1mINFO    \u001b[0m | \u001b[36mpytorch_example\u001b[0m:\u001b[36m<module>\u001b[0m:\u001b[36m228\u001b[0m - \u001b[1mepoch 000 / 100, step 2900 / 5267, loss 0.04138, acc 47.27%, total time [00:15], one epoch time 00:28\u001b[0m\n",
      "\u001b[32m2024-05-09 06:15:29.665\u001b[0m | \u001b[1mINFO    \u001b[0m | \u001b[36mpytorch_example\u001b[0m:\u001b[36m<module>\u001b[0m:\u001b[36m228\u001b[0m - \u001b[1mepoch 000 / 100, step 3000 / 5267, loss 0.04132, acc 46.48%, total time [00:16], one epoch time 00:28\u001b[0m\n",
      "\u001b[32m2024-05-09 06:15:30.211\u001b[0m | \u001b[1mINFO    \u001b[0m | \u001b[36mpytorch_example\u001b[0m:\u001b[36m<module>\u001b[0m:\u001b[36m228\u001b[0m - \u001b[1mepoch 000 / 100, step 3100 / 5267, loss 0.04058, acc 50.39%, total time [00:16], one epoch time 00:28\u001b[0m\n",
      "\u001b[32m2024-05-09 06:15:30.749\u001b[0m | \u001b[1mINFO    \u001b[0m | \u001b[36mpytorch_example\u001b[0m:\u001b[36m<module>\u001b[0m:\u001b[36m228\u001b[0m - \u001b[1mepoch 000 / 100, step 3200 / 5267, loss 0.04043, acc 46.88%, total time [00:17], one epoch time 00:28\u001b[0m\n",
      "\u001b[32m2024-05-09 06:15:31.325\u001b[0m | \u001b[1mINFO    \u001b[0m | \u001b[36mpytorch_example\u001b[0m:\u001b[36m<module>\u001b[0m:\u001b[36m228\u001b[0m - \u001b[1mepoch 000 / 100, step 3300 / 5267, loss 0.04039, acc 53.12%, total time [00:17], one epoch time 00:30\u001b[0m\n",
      "\u001b[32m2024-05-09 06:15:31.842\u001b[0m | \u001b[1mINFO    \u001b[0m | \u001b[36mpytorch_example\u001b[0m:\u001b[36m<module>\u001b[0m:\u001b[36m228\u001b[0m - \u001b[1mepoch 000 / 100, step 3400 / 5267, loss 0.04028, acc 48.44%, total time [00:18], one epoch time 00:27\u001b[0m\n",
      "\u001b[32m2024-05-09 06:15:32.361\u001b[0m | \u001b[1mINFO    \u001b[0m | \u001b[36mpytorch_example\u001b[0m:\u001b[36m<module>\u001b[0m:\u001b[36m228\u001b[0m - \u001b[1mepoch 000 / 100, step 3500 / 5267, loss 0.03962, acc 53.12%, total time [00:18], one epoch time 00:27\u001b[0m\n",
      "\u001b[32m2024-05-09 06:15:32.883\u001b[0m | \u001b[1mINFO    \u001b[0m | \u001b[36mpytorch_example\u001b[0m:\u001b[36m<module>\u001b[0m:\u001b[36m228\u001b[0m - \u001b[1mepoch 000 / 100, step 3600 / 5267, loss 0.03923, acc 51.56%, total time [00:19], one epoch time 00:27\u001b[0m\n",
      "\u001b[32m2024-05-09 06:15:33.402\u001b[0m | \u001b[1mINFO    \u001b[0m | \u001b[36mpytorch_example\u001b[0m:\u001b[36m<module>\u001b[0m:\u001b[36m228\u001b[0m - \u001b[1mepoch 000 / 100, step 3700 / 5267, loss 0.03939, acc 52.73%, total time [00:19], one epoch time 00:27\u001b[0m\n",
      "\u001b[32m2024-05-09 06:15:33.932\u001b[0m | \u001b[1mINFO    \u001b[0m | \u001b[36mpytorch_example\u001b[0m:\u001b[36m<module>\u001b[0m:\u001b[36m228\u001b[0m - \u001b[1mepoch 000 / 100, step 3800 / 5267, loss 0.03933, acc 49.22%, total time [00:20], one epoch time 00:27\u001b[0m\n",
      "\u001b[32m2024-05-09 06:15:34.462\u001b[0m | \u001b[1mINFO    \u001b[0m | \u001b[36mpytorch_example\u001b[0m:\u001b[36m<module>\u001b[0m:\u001b[36m228\u001b[0m - \u001b[1mepoch 000 / 100, step 3900 / 5267, loss 0.03906, acc 53.12%, total time [00:20], one epoch time 00:27\u001b[0m\n",
      "\u001b[32m2024-05-09 06:15:35.004\u001b[0m | \u001b[1mINFO    \u001b[0m | \u001b[36mpytorch_example\u001b[0m:\u001b[36m<module>\u001b[0m:\u001b[36m228\u001b[0m - \u001b[1mepoch 000 / 100, step 4000 / 5267, loss 0.03869, acc 53.52%, total time [00:21], one epoch time 00:28\u001b[0m\n",
      "\u001b[32m2024-05-09 06:15:35.578\u001b[0m | \u001b[1mINFO    \u001b[0m | \u001b[36mpytorch_example\u001b[0m:\u001b[36m<module>\u001b[0m:\u001b[36m228\u001b[0m - \u001b[1mepoch 000 / 100, step 4100 / 5267, loss 0.03840, acc 53.52%, total time [00:21], one epoch time 00:30\u001b[0m\n"
     ]
    },
    {
     "ename": "KeyboardInterrupt",
     "evalue": "",
     "output_type": "error",
     "traceback": [
      "\u001b[0;31m---------------------------------------------------------------------------\u001b[0m",
      "\u001b[0;31mKeyboardInterrupt\u001b[0m                         Traceback (most recent call last)",
      "Cell \u001b[0;32mIn[2], line 1\u001b[0m\n\u001b[0;32m----> 1\u001b[0m \u001b[38;5;28;01mfrom\u001b[39;00m \u001b[38;5;21;01mpytorch_example\u001b[39;00m \u001b[38;5;28;01mimport\u001b[39;00m \u001b[38;5;241m*\u001b[39m\n",
      "File \u001b[0;32m/raid/yixu/Projects/Speech/lab3-no-data/pytorch_example.py:205\u001b[0m\n\u001b[1;32m    203\u001b[0m epoch_acc \u001b[38;5;241m=\u001b[39m \u001b[38;5;241m0.0\u001b[39m\n\u001b[1;32m    204\u001b[0m cnt \u001b[38;5;241m=\u001b[39m \u001b[38;5;241m0\u001b[39m\n\u001b[0;32m--> 205\u001b[0m \u001b[38;5;28;01mfor\u001b[39;00m idx, (inputs, labels) \u001b[38;5;129;01min\u001b[39;00m \u001b[38;5;28menumerate\u001b[39m(train_loader):\n\u001b[1;32m    206\u001b[0m \n\u001b[1;32m    207\u001b[0m     \u001b[38;5;66;03m# move data from cpu to gpu (if available)\u001b[39;00m\n\u001b[1;32m    208\u001b[0m     inputs \u001b[38;5;241m=\u001b[39m inputs\u001b[38;5;241m.\u001b[39mto(device)\n\u001b[1;32m    209\u001b[0m     labels \u001b[38;5;241m=\u001b[39m labels\u001b[38;5;241m.\u001b[39mto(device)\n",
      "File \u001b[0;32m~/Tools/anaconda3/envs/speech/lib/python3.10/site-packages/torch/utils/data/dataloader.py:652\u001b[0m, in \u001b[0;36m_BaseDataLoaderIter.__next__\u001b[0;34m(self)\u001b[0m\n\u001b[1;32m    649\u001b[0m \u001b[38;5;28;01mif\u001b[39;00m \u001b[38;5;28mself\u001b[39m\u001b[38;5;241m.\u001b[39m_sampler_iter \u001b[38;5;129;01mis\u001b[39;00m \u001b[38;5;28;01mNone\u001b[39;00m:\n\u001b[1;32m    650\u001b[0m     \u001b[38;5;66;03m# TODO(https://github.com/pytorch/pytorch/issues/76750)\u001b[39;00m\n\u001b[1;32m    651\u001b[0m     \u001b[38;5;28mself\u001b[39m\u001b[38;5;241m.\u001b[39m_reset()  \u001b[38;5;66;03m# type: ignore[call-arg]\u001b[39;00m\n\u001b[0;32m--> 652\u001b[0m data \u001b[38;5;241m=\u001b[39m \u001b[38;5;28;43mself\u001b[39;49m\u001b[38;5;241;43m.\u001b[39;49m\u001b[43m_next_data\u001b[49m\u001b[43m(\u001b[49m\u001b[43m)\u001b[49m\n\u001b[1;32m    653\u001b[0m \u001b[38;5;28mself\u001b[39m\u001b[38;5;241m.\u001b[39m_num_yielded \u001b[38;5;241m+\u001b[39m\u001b[38;5;241m=\u001b[39m \u001b[38;5;241m1\u001b[39m\n\u001b[1;32m    654\u001b[0m \u001b[38;5;28;01mif\u001b[39;00m \u001b[38;5;28mself\u001b[39m\u001b[38;5;241m.\u001b[39m_dataset_kind \u001b[38;5;241m==\u001b[39m _DatasetKind\u001b[38;5;241m.\u001b[39mIterable \u001b[38;5;129;01mand\u001b[39;00m \\\n\u001b[1;32m    655\u001b[0m         \u001b[38;5;28mself\u001b[39m\u001b[38;5;241m.\u001b[39m_IterableDataset_len_called \u001b[38;5;129;01mis\u001b[39;00m \u001b[38;5;129;01mnot\u001b[39;00m \u001b[38;5;28;01mNone\u001b[39;00m \u001b[38;5;129;01mand\u001b[39;00m \\\n\u001b[1;32m    656\u001b[0m         \u001b[38;5;28mself\u001b[39m\u001b[38;5;241m.\u001b[39m_num_yielded \u001b[38;5;241m>\u001b[39m \u001b[38;5;28mself\u001b[39m\u001b[38;5;241m.\u001b[39m_IterableDataset_len_called:\n",
      "File \u001b[0;32m~/Tools/anaconda3/envs/speech/lib/python3.10/site-packages/torch/utils/data/dataloader.py:692\u001b[0m, in \u001b[0;36m_SingleProcessDataLoaderIter._next_data\u001b[0;34m(self)\u001b[0m\n\u001b[1;32m    690\u001b[0m \u001b[38;5;28;01mdef\u001b[39;00m \u001b[38;5;21m_next_data\u001b[39m(\u001b[38;5;28mself\u001b[39m):\n\u001b[1;32m    691\u001b[0m     index \u001b[38;5;241m=\u001b[39m \u001b[38;5;28mself\u001b[39m\u001b[38;5;241m.\u001b[39m_next_index()  \u001b[38;5;66;03m# may raise StopIteration\u001b[39;00m\n\u001b[0;32m--> 692\u001b[0m     data \u001b[38;5;241m=\u001b[39m \u001b[38;5;28;43mself\u001b[39;49m\u001b[38;5;241;43m.\u001b[39;49m\u001b[43m_dataset_fetcher\u001b[49m\u001b[38;5;241;43m.\u001b[39;49m\u001b[43mfetch\u001b[49m\u001b[43m(\u001b[49m\u001b[43mindex\u001b[49m\u001b[43m)\u001b[49m  \u001b[38;5;66;03m# may raise StopIteration\u001b[39;00m\n\u001b[1;32m    693\u001b[0m     \u001b[38;5;28;01mif\u001b[39;00m \u001b[38;5;28mself\u001b[39m\u001b[38;5;241m.\u001b[39m_pin_memory:\n\u001b[1;32m    694\u001b[0m         data \u001b[38;5;241m=\u001b[39m _utils\u001b[38;5;241m.\u001b[39mpin_memory\u001b[38;5;241m.\u001b[39mpin_memory(data, \u001b[38;5;28mself\u001b[39m\u001b[38;5;241m.\u001b[39m_pin_memory_device)\n",
      "\u001b[0;31mKeyboardInterrupt\u001b[0m: "
     ]
    }
   ],
   "source": [
    "from pytorch_example import *"
   ]
  },
  {
   "cell_type": "code",
   "execution_count": null,
   "metadata": {},
   "outputs": [],
   "source": []
  }
 ],
 "metadata": {
  "kernelspec": {
   "display_name": "speech",
   "language": "python",
   "name": "python3"
  },
  "language_info": {
   "codemirror_mode": {
    "name": "ipython",
    "version": 3
   },
   "file_extension": ".py",
   "mimetype": "text/x-python",
   "name": "python",
   "nbconvert_exporter": "python",
   "pygments_lexer": "ipython3",
   "version": "3.10.14"
  }
 },
 "nbformat": 4,
 "nbformat_minor": 2
}
